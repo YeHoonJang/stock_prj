{
 "cells": [
  {
   "cell_type": "code",
   "execution_count": 107,
   "id": "3ea36e5b",
   "metadata": {},
   "outputs": [],
   "source": [
    "import pandas as pd\n",
    "import glob\n",
    "import matplotlib.pyplot as plt\n",
    "import numpy as np\n",
    "\n",
    "from matplotlib import font_manager, rc\n",
    "font_path = \"C:/Windows/Fonts/malgun.ttf\"\n",
    "font = font_manager.FontProperties(fname=font_path).get_name()\n",
    "rc('font', family=font)"
   ]
  },
  {
   "cell_type": "code",
   "execution_count": 105,
   "id": "e8b45f5e",
   "metadata": {},
   "outputs": [
    {
     "data": {
      "text/html": [
       "<div>\n",
       "<style scoped>\n",
       "    .dataframe tbody tr th:only-of-type {\n",
       "        vertical-align: middle;\n",
       "    }\n",
       "\n",
       "    .dataframe tbody tr th {\n",
       "        vertical-align: top;\n",
       "    }\n",
       "\n",
       "    .dataframe thead th {\n",
       "        text-align: right;\n",
       "    }\n",
       "</style>\n",
       "<table border=\"1\" class=\"dataframe\">\n",
       "  <thead>\n",
       "    <tr style=\"text-align: right;\">\n",
       "      <th></th>\n",
       "      <th>num</th>\n",
       "      <th>name</th>\n",
       "      <th>class</th>\n",
       "    </tr>\n",
       "  </thead>\n",
       "  <tbody>\n",
       "    <tr>\n",
       "      <th>0</th>\n",
       "      <td>100001</td>\n",
       "      <td>동화약품</td>\n",
       "      <td>kospi</td>\n",
       "    </tr>\n",
       "    <tr>\n",
       "      <th>1</th>\n",
       "      <td>100002</td>\n",
       "      <td>KR모터스</td>\n",
       "      <td>kospi</td>\n",
       "    </tr>\n",
       "    <tr>\n",
       "      <th>2</th>\n",
       "      <td>100003</td>\n",
       "      <td>경방</td>\n",
       "      <td>kospi</td>\n",
       "    </tr>\n",
       "    <tr>\n",
       "      <th>3</th>\n",
       "      <td>100004</td>\n",
       "      <td>메리츠화재</td>\n",
       "      <td>kospi</td>\n",
       "    </tr>\n",
       "    <tr>\n",
       "      <th>4</th>\n",
       "      <td>100005</td>\n",
       "      <td>삼양홀딩스</td>\n",
       "      <td>kospi</td>\n",
       "    </tr>\n",
       "    <tr>\n",
       "      <th>...</th>\n",
       "      <td>...</td>\n",
       "      <td>...</td>\n",
       "      <td>...</td>\n",
       "    </tr>\n",
       "    <tr>\n",
       "      <th>2901</th>\n",
       "      <td>201839</td>\n",
       "      <td>대신밸런스제9호스팩</td>\n",
       "      <td>kosdaq</td>\n",
       "    </tr>\n",
       "    <tr>\n",
       "      <th>2902</th>\n",
       "      <td>201840</td>\n",
       "      <td>신한제7호스팩</td>\n",
       "      <td>kosdaq</td>\n",
       "    </tr>\n",
       "    <tr>\n",
       "      <th>2903</th>\n",
       "      <td>201841</td>\n",
       "      <td>IBKS제15호스팩</td>\n",
       "      <td>kosdaq</td>\n",
       "    </tr>\n",
       "    <tr>\n",
       "      <th>2904</th>\n",
       "      <td>201842</td>\n",
       "      <td>에이치디</td>\n",
       "      <td>kosdaq</td>\n",
       "    </tr>\n",
       "    <tr>\n",
       "      <th>2905</th>\n",
       "      <td>201843</td>\n",
       "      <td>에이팸</td>\n",
       "      <td>kosdaq</td>\n",
       "    </tr>\n",
       "  </tbody>\n",
       "</table>\n",
       "<p>2906 rows × 3 columns</p>\n",
       "</div>"
      ],
      "text/plain": [
       "         num        name   class\n",
       "0     100001        동화약품   kospi\n",
       "1     100002       KR모터스   kospi\n",
       "2     100003          경방   kospi\n",
       "3     100004       메리츠화재   kospi\n",
       "4     100005       삼양홀딩스   kospi\n",
       "...      ...         ...     ...\n",
       "2901  201839  대신밸런스제9호스팩  kosdaq\n",
       "2902  201840     신한제7호스팩  kosdaq\n",
       "2903  201841  IBKS제15호스팩  kosdaq\n",
       "2904  201842        에이치디  kosdaq\n",
       "2905  201843         에이팸  kosdaq\n",
       "\n",
       "[2906 rows x 3 columns]"
      ]
     },
     "execution_count": 105,
     "metadata": {},
     "output_type": "execute_result"
    }
   ],
   "source": [
    "id_code = pd.read_csv(\"../stock_prj/data/id_code.csv\")\n",
    "id_code"
   ]
  },
  {
   "cell_type": "code",
   "execution_count": 99,
   "id": "4859cef6",
   "metadata": {},
   "outputs": [
    {
     "data": {
      "text/plain": [
       "1749"
      ]
     },
     "execution_count": 99,
     "metadata": {},
     "output_type": "execute_result"
    }
   ],
   "source": [
    "crawling_list = glob.glob(\"../stock_prj/result/*.csv\")\n",
    "len(crawling_list)"
   ]
  },
  {
   "cell_type": "markdown",
   "id": "efd032c2",
   "metadata": {},
   "source": [
    "## 크롤링 완료 개수"
   ]
  },
  {
   "cell_type": "code",
   "execution_count": 100,
   "id": "780e7528",
   "metadata": {},
   "outputs": [],
   "source": [
    "# id_code의 기업 번호와 기업 이름으로  dictionary 만들기\n",
    "id_dict = dict(zip(id_code[\"num\"], id_code[\"name\"]))"
   ]
  },
  {
   "cell_type": "code",
   "execution_count": 101,
   "id": "10857c6b",
   "metadata": {
    "scrolled": false
   },
   "outputs": [
    {
     "name": "stdout",
     "output_type": "stream",
     "text": [
      "1157 715505\n"
     ]
    }
   ],
   "source": [
    "temp_dict = id_dict.copy()\n",
    "cnt = len(id_dict)\n",
    "total_news = 0\n",
    "for file in crawling_list:\n",
    "    name = file.split(\"\\\\\")[-1].split(\"_\")[-1].split(\".\")[0]\n",
    "    name = name.replace(\"+\", \" \")\n",
    "    name  = name.replace(\"_\", \"&\")\n",
    "    num =int(file.split(\"\\\\\")[-1].split(\"_\")[-2])\n",
    "    if num in list(id_dict.keys()) or name == id_dict[num]:\n",
    "        cnt -= 1\n",
    "        tmp = pd.read_csv(file)\n",
    "        total_news += tmp.shape[0]\n",
    "print(cnt, total_news)"
   ]
  },
  {
   "cell_type": "code",
   "execution_count": 102,
   "id": "64f9e598",
   "metadata": {},
   "outputs": [],
   "source": [
    "# # 중복된 이름 처리\n",
    "\n",
    "# df_1 = pd.read_csv(\"../stock_prj/result/crawling_result_200740_제넥신.csv\")\n",
    "# df_2 = pd.read_csv(\"../stock_prj/result/crawling_result_200740_제넥신_2.csv\")\n",
    "\n",
    "# total = pd.concat([df_1,df_2]).drop_duplicates().reset_index(drop=True)\n",
    "# total.to_csv(\"../stock_prj/result/crawling_result_200740_제넥신.csv\", index=False, encoding='utf-8-sig')"
   ]
  },
  {
   "cell_type": "markdown",
   "id": "558fb69e",
   "metadata": {},
   "source": [
    "## 기업 수 파이 차트"
   ]
  },
  {
   "cell_type": "code",
   "execution_count": 108,
   "id": "78a4431f",
   "metadata": {
    "scrolled": false
   },
   "outputs": [
    {
     "data": {
      "image/png": "[encoded data removed]",
      "text/plain": [
       "<Figure size 576x576 with 1 Axes>"
      ]
     },
     "metadata": {},
     "output_type": "display_data"
    }
   ],
   "source": [
    "# complete = len(complete_list)\n",
    "complete = 2906-cnt\n",
    "labels = ['크롤링 완료', '크롤링 미완료']\n",
    "sizes = [complete, 2906-complete]\n",
    "explode = (0, 0.1)\n",
    "\n",
    "def absolute_value(val, sizes):\n",
    "    absolute = int(np.round(val/100.*np.sum(sizes)))\n",
    "    return f\"{val:.1f}%\\n({absolute:,})\"\n",
    "\n",
    "\n",
    "plt.figure(figsize=(8,8))\n",
    "plt.pie(sizes, explode=explode, labels=labels, autopct=lambda pct:absolute_value(pct, sizes), shadow=True, textprops={'fontsize': 15})\n",
    "plt.title(\"크롤링 기업 수 현황\", fontdict={\"fontsize\":18, \"weight\":\"bold\"})\n",
    "plt.axis('equal')  # Equal aspect ratio ensures that pie is drawn as a circle.\n",
    "\n",
    "plt.show()"
   ]
  },
  {
   "cell_type": "code",
   "execution_count": null,
   "id": "27c7e002",
   "metadata": {},
   "outputs": [],
   "source": [
    "total = pd.DataFrame()\n",
    "all_url = glob.glob(\"./data/crawling_*.csv\")\n",
    "for url in all_url:\n",
    "    tmp_df = pd.read_csv(url)\n",
    "    total = pd.concat([total, tmp_df])\n",
    "    total = total.drop_duplicates(subset=['name', 'url'])\n",
    "total.to_csv(\"./data/total_crawling_list.csv\", index=False)\n",
    "print(len(total))"
   ]
  }
 ],
 "metadata": {
  "kernelspec": {
   "display_name": "Python 3",
   "language": "python",
   "name": "python3"
  },
  "language_info": {
   "codemirror_mode": {
    "name": "ipython",
    "version": 3
   },
   "file_extension": ".py",
   "mimetype": "text/x-python",
   "name": "python",
   "nbconvert_exporter": "python",
   "pygments_lexer": "ipython3",
   "version": "3.8.8"
  }
 },
 "nbformat": 4,
 "nbformat_minor": 5
}
